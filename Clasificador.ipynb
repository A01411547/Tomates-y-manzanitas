{
 "cells": [
  {
   "cell_type": "code",
   "execution_count": 1,
   "metadata": {},
   "outputs": [],
   "source": [
    "import tensorflow as tf\n",
    "from tensorflow.keras.preprocessing.image import ImageDataGenerator\n",
    "from tensorflow.keras.models import Sequential\n",
    "from tensorflow.keras.layers import Conv2D, MaxPooling2D, Flatten, Dense\n"
   ]
  },
  {
   "cell_type": "code",
   "execution_count": 2,
   "metadata": {},
   "outputs": [],
   "source": [
    "# Crear 1 objeto ImageDataGenerator para realizar data augmentation\n",
    "data_generator = ImageDataGenerator(\n",
    "    rescale=1./255,  # Escala los valores de los píxeles al rango [0, 1]\n",
    "    shear_range=0.2,  # Aplica cortes aleatorios a las imágenes para facilitar el reconocimiento en diferentes condiciones\n",
    "    zoom_range=0.2,  # Aplica zoom aleatorio a las imágenes para facilitar el reconocimiento con diferentes niveles de zoom\n",
    "    horizontal_flip=True  # Voltea de manera horizontal y  aleatoriamente las imágenes \n",
    ")"
   ]
  },
  {
   "cell_type": "code",
   "execution_count": 3,
   "metadata": {},
   "outputs": [],
   "source": [
    "test_generator = ImageDataGenerator(\n",
    "    rescale=1./255,  # Escala los valores de los píxeles al rango [0, 1]\n",
    "\n",
    ")"
   ]
  },
  {
   "cell_type": "code",
   "execution_count": 4,
   "metadata": {},
   "outputs": [
    {
     "name": "stdout",
     "output_type": "stream",
     "text": [
      "Found 294 images belonging to 2 classes.\n"
     ]
    }
   ],
   "source": [
    "# Cargar el conjunto de datos de entrenamiento\n",
    "train_data = data_generator.flow_from_directory(\n",
    "    'train',\n",
    "    target_size=(150, 150),  # Cambia el tamaño de las imágenes a 150x150 píxeles\n",
    "    batch_size=32,\n",
    "    class_mode='binary'  # Clasificación binaria (tomatito o manzananita)\n",
    ")\n"
   ]
  },
  {
   "cell_type": "code",
   "execution_count": 5,
   "metadata": {},
   "outputs": [
    {
     "name": "stdout",
     "output_type": "stream",
     "text": [
      "Found 97 images belonging to 2 classes.\n"
     ]
    }
   ],
   "source": [
    "# Carga el conjunto de datos de prueba\n",
    "test_data = test_generator.flow_from_directory(\n",
    "    'test',\n",
    "    target_size=(150, 150),\n",
    "    batch_size=32,\n",
    "    class_mode='binary'\n",
    ")"
   ]
  },
  {
   "cell_type": "code",
   "execution_count": 14,
   "metadata": {},
   "outputs": [],
   "source": [
    "# Crear un modelo secuencial de TensorFlow\n",
    "model = Sequential()\n"
   ]
  },
  {
   "cell_type": "code",
   "execution_count": 15,
   "metadata": {},
   "outputs": [],
   "source": [
    "# Agregar capas convolucionales para extraer características\n",
    "model.add(Conv2D(32, (3, 3), activation='relu', input_shape=(150, 150, 3)))\n",
    "model.add(MaxPooling2D(pool_size=(2, 2)))\n",
    "model.add(Conv2D(64, (3, 3), activation='relu'))\n",
    "model.add(MaxPooling2D(pool_size=(2, 2)))\n",
    "model.add(Flatten())\n",
    "# Agregar capas densas para la clasificación\n",
    "model.add(Dense(units=128, activation='relu'))\n",
    "model.add(Dense(units=1, activation='sigmoid'))"
   ]
  },
  {
   "cell_type": "code",
   "execution_count": 17,
   "metadata": {},
   "outputs": [],
   "source": [
    "# Compilar el modelo\n",
    "model.compile(optimizer='adam', loss='binary_crossentropy', metrics=['accuracy'])"
   ]
  },
  {
   "cell_type": "code",
   "execution_count": 18,
   "metadata": {},
   "outputs": [
    {
     "name": "stdout",
     "output_type": "stream",
     "text": [
      "Epoch 1/10\n"
     ]
    },
    {
     "name": "stderr",
     "output_type": "stream",
     "text": [
      "2023-05-25 22:31:50.557030: I tensorflow/core/common_runtime/executor.cc:1210] [/device:CPU:0] (DEBUG INFO) Executor start aborting (this does not indicate an error and you can ignore this message): INVALID_ARGUMENT: You must feed a value for placeholder tensor 'Placeholder/_0' with dtype int32\n",
      "\t [[{{node Placeholder/_0}}]]\n"
     ]
    },
    {
     "name": "stdout",
     "output_type": "stream",
     "text": [
      "10/10 [==============================] - 5s 511ms/step - loss: 3.7043 - accuracy: 0.4796\n",
      "Epoch 2/10\n",
      "10/10 [==============================] - 5s 524ms/step - loss: 0.6752 - accuracy: 0.5646\n",
      "Epoch 3/10\n",
      "10/10 [==============================] - 5s 449ms/step - loss: 0.6475 - accuracy: 0.6088\n",
      "Epoch 4/10\n",
      "10/10 [==============================] - 5s 474ms/step - loss: 0.6128 - accuracy: 0.6667\n",
      "Epoch 5/10\n",
      "10/10 [==============================] - 4s 433ms/step - loss: 0.6363 - accuracy: 0.6361\n",
      "Epoch 6/10\n",
      "10/10 [==============================] - 4s 430ms/step - loss: 0.5859 - accuracy: 0.6803\n",
      "Epoch 7/10\n",
      "10/10 [==============================] - 4s 425ms/step - loss: 0.5697 - accuracy: 0.7415\n",
      "Epoch 8/10\n",
      "10/10 [==============================] - 4s 438ms/step - loss: 0.5301 - accuracy: 0.7279\n",
      "Epoch 9/10\n",
      "10/10 [==============================] - 4s 435ms/step - loss: 0.5301 - accuracy: 0.7551\n",
      "Epoch 10/10\n",
      "10/10 [==============================] - 5s 439ms/step - loss: 0.5065 - accuracy: 0.7721\n"
     ]
    },
    {
     "data": {
      "text/plain": [
       "<keras.src.callbacks.History at 0x2907f32b0>"
      ]
     },
     "execution_count": 18,
     "metadata": {},
     "output_type": "execute_result"
    }
   ],
   "source": [
    "# Entrenar el modelo\n",
    "model.fit(train_data, epochs=10)\n"
   ]
  },
  {
   "cell_type": "code",
   "execution_count": 19,
   "metadata": {},
   "outputs": [
    {
     "name": "stderr",
     "output_type": "stream",
     "text": [
      "2023-05-25 22:32:41.448995: I tensorflow/core/common_runtime/executor.cc:1210] [/device:CPU:0] (DEBUG INFO) Executor start aborting (this does not indicate an error and you can ignore this message): INVALID_ARGUMENT: You must feed a value for placeholder tensor 'Placeholder/_0' with dtype int32\n",
      "\t [[{{node Placeholder/_0}}]]\n"
     ]
    },
    {
     "name": "stdout",
     "output_type": "stream",
     "text": [
      "4/4 [==============================] - 1s 105ms/step - loss: 0.4912 - accuracy: 0.7320\n",
      "Test Loss: 0.49119073152542114\n",
      "Test Accuracy: 0.7319587469100952\n"
     ]
    }
   ],
   "source": [
    "# Evaluar el modelo en el conjunto de prueba\n",
    "test_loss, test_accuracy = model.evaluate(test_data)\n",
    "print('Test Loss:', test_loss)\n",
    "print('Test Accuracy:', test_accuracy)"
   ]
  }
 ],
 "metadata": {
  "kernelspec": {
   "display_name": "base",
   "language": "python",
   "name": "python3"
  },
  "language_info": {
   "codemirror_mode": {
    "name": "ipython",
    "version": 3
   },
   "file_extension": ".py",
   "mimetype": "text/x-python",
   "name": "python",
   "nbconvert_exporter": "python",
   "pygments_lexer": "ipython3",
   "version": "3.10.9"
  },
  "orig_nbformat": 4
 },
 "nbformat": 4,
 "nbformat_minor": 2
}
