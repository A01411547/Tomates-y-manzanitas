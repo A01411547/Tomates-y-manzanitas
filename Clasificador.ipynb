{
 "cells": [
  {
   "cell_type": "code",
   "execution_count": 1,
   "metadata": {},
   "outputs": [],
   "source": [
    "import tensorflow as tf\n",
    "from tensorflow.keras.preprocessing.image import ImageDataGenerator\n"
   ]
  },
  {
   "cell_type": "code",
   "execution_count": 2,
   "metadata": {},
   "outputs": [],
   "source": [
    "# Crear 1 objeto ImageDataGenerator para realizar data augmentation\n",
    "data_generator = ImageDataGenerator(\n",
    "    rescale=1./255,  # Escala los valores de los píxeles al rango [0, 1]\n",
    "    shear_range=0.2,  # Aplica cortes aleatorios a las imágenes para facilitar el reconocimiento en diferentes condiciones\n",
    "    zoom_range=0.2,  # Aplica zoom aleatorio a las imágenes para facilitar el reconocimiento con diferentes niveles de zoom\n",
    "    horizontal_flip=True  # Voltea de manera horizontal y  aleatoriamente las imágenes \n",
    ")"
   ]
  },
  {
   "cell_type": "code",
   "execution_count": 3,
   "metadata": {},
   "outputs": [
    {
     "name": "stdout",
     "output_type": "stream",
     "text": [
      "Found 294 images belonging to 2 classes.\n"
     ]
    }
   ],
   "source": [
    "# Cargar el conjunto de datos de entrenamiento\n",
    "train_data = data_generator.flow_from_directory(\n",
    "    'train',\n",
    "    target_size=(150, 150),  # Cambia el tamaño de las imágenes a 150x150 píxeles\n",
    "    batch_size=32,\n",
    "    class_mode='binary'  # Clasificación binaria (tomatito o manzananita)\n",
    ")\n"
   ]
  },
  {
   "cell_type": "code",
   "execution_count": 4,
   "metadata": {},
   "outputs": [
    {
     "name": "stdout",
     "output_type": "stream",
     "text": [
      "Found 97 images belonging to 2 classes.\n"
     ]
    }
   ],
   "source": [
    "# Carga el conjunto de datos de prueba\n",
    "test_data = data_generator.flow_from_directory(\n",
    "    'test',\n",
    "    target_size=(150, 150),\n",
    "    batch_size=32,\n",
    "    class_mode='binary'\n",
    ")"
   ]
  }
 ],
 "metadata": {
  "kernelspec": {
   "display_name": "base",
   "language": "python",
   "name": "python3"
  },
  "language_info": {
   "codemirror_mode": {
    "name": "ipython",
    "version": 3
   },
   "file_extension": ".py",
   "mimetype": "text/x-python",
   "name": "python",
   "nbconvert_exporter": "python",
   "pygments_lexer": "ipython3",
   "version": "3.10.9"
  },
  "orig_nbformat": 4
 },
 "nbformat": 4,
 "nbformat_minor": 2
}
